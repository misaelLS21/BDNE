{
 "cells": [
  {
   "cell_type": "markdown",
   "metadata": {},
   "source": [
    "# Introducción a Redis\n",
    "## Author: Misael López Sánchez, FCiencias UNAM\n",
    "\n",
    "En este módulo nos introducimos a lo que es trabajar con redis desde Python 3.\n",
    "Algunos links interesantes que se usaron se encuentran aquí:\n",
    "* <a href=\"https://redis.io/commands#set\">  Coomand Redis </a>\n",
    "* <a href=\"https://realpython.com/python-redis/\"> Python-Redis </a>"
   ]
  },
  {
   "cell_type": "markdown",
   "metadata": {},
   "source": [
    "### Introducición.\n",
    "Lo primero que realizamos fue instalar redis en nuestro ordenador con las siguentes instrucciones en la línea de comandos de Ubuntu:\n",
    "<img src=\"redis1.png\" style=\"with: 300px;\"/>\n",
    "\n",
    "Y proseguimos a instalar todas las dependencias posibles y ver que funcionaba adecuadamente:\n",
    "\n",
    "<img src=\"redis3.png\" style=\"with: 300px;\"/>"
   ]
  },
  {
   "cell_type": "markdown",
   "metadata": {},
   "source": [
    "Una vez operada la base de datos pasamos a instalar las bibliotecas necesarias para trabajar con Python y redis, en este caso trabajamos con dos bibliotecas: \n",
    "\n",
    "* redis: Para crear la conexión entre Python y Redis.\n",
    "* os: Para trabajar con comandos de entrada por consola en Python.\n"
   ]
  },
  {
   "cell_type": "markdown",
   "metadata": {},
   "source": [
    "#### Instalamos redis"
   ]
  },
  {
   "cell_type": "markdown",
   "metadata": {},
   "source": [
    "pip install redis"
   ]
  },
  {
   "cell_type": "code",
   "execution_count": 2,
   "metadata": {},
   "outputs": [],
   "source": [
    "# Importamos bibliotecas que posteriormente vamos a utilizar\n",
    "import redis as rds\n",
    "import os"
   ]
  },
  {
   "cell_type": "markdown",
   "metadata": {},
   "source": [
    "Creamos la conexión entre Python y Redis.\n",
    "Modificamos el archivo redis.conf para que pidiera una contraseña antes de iniciar a trabajar: lcd-2019-M"
   ]
  },
  {
   "cell_type": "code",
   "execution_count": 3,
   "metadata": {},
   "outputs": [],
   "source": [
    "# Checamos de que la conexión con redis esté funcionando correctamente.\n",
    "redis1 = rds.Redis(host='localhost',port=6379, password='lcd-2019-M')"
   ]
  },
  {
   "cell_type": "code",
   "execution_count": 4,
   "metadata": {},
   "outputs": [
    {
     "data": {
      "text/plain": [
       "<bound method Redis.ping of Redis<ConnectionPool<Connection<host=localhost,port=6379,db=0>>>>"
      ]
     },
     "execution_count": 4,
     "metadata": {},
     "output_type": "execute_result"
    }
   ],
   "source": [
    "# Comprobamos la conexión con la base de datos\n",
    "ping = redis1.ping\n",
    "ping"
   ]
  },
  {
   "cell_type": "code",
   "execution_count": 5,
   "metadata": {},
   "outputs": [
    {
     "data": {
      "text/plain": [
       "True"
      ]
     },
     "execution_count": 5,
     "metadata": {},
     "output_type": "execute_result"
    }
   ],
   "source": [
    "redis1.set('test','examen')"
   ]
  },
  {
   "cell_type": "code",
   "execution_count": 6,
   "metadata": {},
   "outputs": [
    {
     "data": {
      "text/plain": [
       "b'examen'"
      ]
     },
     "execution_count": 6,
     "metadata": {},
     "output_type": "execute_result"
    }
   ],
   "source": [
    "redis1.get('test')"
   ]
  },
  {
   "cell_type": "markdown",
   "metadata": {},
   "source": [
    "Estas funciones sirven como auxiliares, la principal se encuentra un poco más adelante."
   ]
  },
  {
   "cell_type": "code",
   "execution_count": 7,
   "metadata": {},
   "outputs": [],
   "source": [
    "os.system('cls')\n",
    "clear = lambda:os.system('cls')\n",
    "\n",
    "def menu_inputs():\n",
    "    \"\"\"\n",
    "    @Author: MLS y JJTL\n",
    "    summary: Menu que imprime la interfaz grafica para ser un puente entre Python y Redis.\n",
    "    Parameters: NULL\n",
    "    Returns: Pantalla de la interfaz grafica\n",
    "    \"\"\"\n",
    "    print(\"\")\n",
    "    print ('+'*20,\" Opciones \", '+'*20, '\\n')\n",
    "    print(\"0.- Agregar Registro.\")\n",
    "    print(\"1.- Borrar Registro.\")\n",
    "    print(\"2.- Ver Registros.\")\n",
    "    print(\"3.- Salir\")\n",
    "\n",
    "def op4():\n",
    "    while True:\n",
    "        menu_inputs()\n",
    "        optionM = input(\"¿Qué desea hacer? >> \")\n",
    "        #clear()\n",
    "        if optionM == '0': #Agregar Registro\n",
    "        \n",
    "            id = input(\"Ingrese el identificador: \")\n",
    "            url = input(\"Ingrese la URL: \")\n",
    "            nickname = input(\"Ingrese un nickname al URL: \")\n",
    "            clasificacion = input(\"Ingrese la clasificación: \")\n",
    "            categoria = input(\"Ingrese la categoría: \")\n",
    "        \n",
    "            #Creamos los conjuntos para cada uno de los datos de los usuarios.\n",
    "            redis1.sadd('URL:'+id,url)\n",
    "            redis1.sadd('Nickname:'+id,nickname)\n",
    "            redis1.sadd('Clasificación:'+id,clasificacion)\n",
    "            redis1.sadd('Categoría:'+id,categoria)\n",
    "            \n",
    "        elif optionM == '1': #Borrar registro\n",
    "            id = input(\"Ingrese el identificador: \")\n",
    "            url = input(\"Ingrese la URL: \")\n",
    "            nickname = input(\"Ingrese un nickname al URL: \")\n",
    "            clasificacion = input(\"Ingrese la clasificación: \")\n",
    "            categoria = input(\"Ingrese categoría\")\n",
    "            \n",
    "            redis1.srem('URL:'+id,url)\n",
    "            redis1.srem('Nickname:'+id,nickname)\n",
    "            redis1.srem('Clasificación:'+id,clasificacion)\n",
    "            redis1.srem('Categoría:'+id,categoria)\n",
    "            \n",
    "        elif optionM == '2': #Ver registros. Los cuales se van asignando en diferentes variables dependiendo el id asignado.\n",
    "            id = int(input(\"Ingrese el identificador: \"))\n",
    "            \n",
    "            print(\"Los datos para este usuario son: \")\n",
    "            sURL = redis1.smembers(f'URL:{id}')\n",
    "            sNickname = redis1.smembers(f'Nickname:{id}')\n",
    "            sClasificacion = redis1.smembers(f'Clasificación:{id}')\n",
    "            sCategoria = redis1.smembers(f'Categoría:{id}')\n",
    "            \n",
    "            #Imprimimos los registros con forme se fueron insertando\n",
    "            print(f'Los URLs son: {sURL} ') \n",
    "            print(f'Los nickname son: {sNickname}')      \n",
    "            print(f'Las clasificaciones son: {sClasificacion}')\n",
    "            print(f'Las categorías son: {sCategoria}')\n",
    "            \n",
    "        elif optionM == '3':\n",
    "            break;\n",
    "        \n",
    "        else:\n",
    "            print(\"Opción no válida. Por favor, Vuelva a intentarlo.\")\n",
    "            break;\n",
    "            \n",
    "            \n",
    "        input(\"\\n\\n Presione ENTER para continuar.\")\n",
    "        clear()\n",
    "         "
   ]
  },
  {
   "cell_type": "markdown",
   "metadata": {},
   "source": [
    "Esta aplicación funciona como un menú de una whishlist y tiene un menú conformado 7 opciones; recibe los datos de las URL's y las guarda en datos de la siguiente manera:\n",
    "<img src=\"redis5.png\" style=\"width: 300px;\">\n",
    "\n",
    "Cabe mencionar que usa estructuras de datos diferentes:\n",
    "* Usuarios: Son almacenados en tablas Hashes.\n",
    "* URL, nickname, clasificación y categoría son guardados en conjuntos, porque en ellos es fácil poder realizar operaciones clásicas de conjuntos."
   ]
  },
  {
   "cell_type": "code",
   "execution_count": 9,
   "metadata": {},
   "outputs": [
    {
     "name": "stdout",
     "output_type": "stream",
     "text": [
      "\n",
      "++++++++++++++++++++  MENU  ++++++++++++++++++++ \n",
      "\n",
      "0.- Ingresar un nuevo usuario\n",
      "1.- Editar datos de un usuario\n",
      "2.- Buscar usuario\n",
      "3.- Cerrar sesión de un usuario\n",
      "4.- Ingresar registros\n",
      "5.- Comparar registros\n",
      "6.- Salir\n",
      "\n",
      "Ingrese una opción >> 1\n",
      "\n",
      "----- Editar datos de usuarios ----- \n",
      "\n",
      "Ingrese el usuario existente: 454\n",
      "Nuevo usuario: 565656\n",
      "Nueva ciudad: 45545\n",
      "\n",
      "\n",
      " Presione ENTER para continuar.\n",
      "\n",
      "++++++++++++++++++++  MENU  ++++++++++++++++++++ \n",
      "\n",
      "0.- Ingresar un nuevo usuario\n",
      "1.- Editar datos de un usuario\n",
      "2.- Buscar usuario\n",
      "3.- Cerrar sesión de un usuario\n",
      "4.- Ingresar registros\n",
      "5.- Comparar registros\n",
      "6.- Salir\n",
      "\n",
      "Ingrese una opción >> 2\n",
      "\n",
      "---------- Buscador ---------- \n",
      "\n",
      "Ingrese el identificador: 1102\n",
      "{b'user': b'Misael', b'ciudad': b'Caracas'} \n",
      "\n",
      "Usuario:  Misael\n",
      "Ciudad:  Caracas\n",
      "\n",
      "\n",
      " Presione ENTER para continuar.\n",
      "\n",
      "++++++++++++++++++++  MENU  ++++++++++++++++++++ \n",
      "\n",
      "0.- Ingresar un nuevo usuario\n",
      "1.- Editar datos de un usuario\n",
      "2.- Buscar usuario\n",
      "3.- Cerrar sesión de un usuario\n",
      "4.- Ingresar registros\n",
      "5.- Comparar registros\n",
      "6.- Salir\n",
      "\n",
      "Ingrese una opción >> 1\n",
      "\n",
      "----- Editar datos de usuarios ----- \n",
      "\n",
      "Ingrese el usuario existente: 1102\n",
      "Nuevo usuario: Mario Medina\n",
      "Nueva ciudad: Madrid\n",
      "\n",
      "\n",
      " Presione ENTER para continuar.\n",
      "\n",
      "++++++++++++++++++++  MENU  ++++++++++++++++++++ \n",
      "\n",
      "0.- Ingresar un nuevo usuario\n",
      "1.- Editar datos de un usuario\n",
      "2.- Buscar usuario\n",
      "3.- Cerrar sesión de un usuario\n",
      "4.- Ingresar registros\n",
      "5.- Comparar registros\n",
      "6.- Salir\n",
      "\n",
      "Ingrese una opción >> 2\n",
      "\n",
      "---------- Buscador ---------- \n",
      "\n",
      "Ingrese el identificador: 1102\n",
      "{b'user': b'Mario Medina', b'ciudad': b'Madrid'} \n",
      "\n",
      "Usuario:  Mario Medina\n",
      "Ciudad:  Madrid\n",
      "\n",
      "\n",
      " Presione ENTER para continuar.\n",
      "\n",
      "++++++++++++++++++++  MENU  ++++++++++++++++++++ \n",
      "\n",
      "0.- Ingresar un nuevo usuario\n",
      "1.- Editar datos de un usuario\n",
      "2.- Buscar usuario\n",
      "3.- Cerrar sesión de un usuario\n",
      "4.- Ingresar registros\n",
      "5.- Comparar registros\n",
      "6.- Salir\n",
      "\n",
      "Ingrese una opción >> 3\n",
      "\n",
      "----- Cerrar Sesión de un usuario ----- \n",
      "\n",
      "Identificador: 1102\n",
      "\n",
      "\n",
      " Presione ENTER para continuar.\n",
      "\n",
      "++++++++++++++++++++  MENU  ++++++++++++++++++++ \n",
      "\n",
      "0.- Ingresar un nuevo usuario\n",
      "1.- Editar datos de un usuario\n",
      "2.- Buscar usuario\n",
      "3.- Cerrar sesión de un usuario\n",
      "4.- Ingresar registros\n",
      "5.- Comparar registros\n",
      "6.- Salir\n",
      "\n",
      "Ingrese una opción >> 2\n",
      "\n",
      "---------- Buscador ---------- \n",
      "\n",
      "Ingrese el identificador: 1102\n",
      "{} \n",
      "\n"
     ]
    },
    {
     "ename": "AttributeError",
     "evalue": "'NoneType' object has no attribute 'decode'",
     "output_type": "error",
     "traceback": [
      "\u001b[0;31m---------------------------------------------------------------------------\u001b[0m",
      "\u001b[0;31mAttributeError\u001b[0m                            Traceback (most recent call last)",
      "\u001b[0;32m<ipython-input-9-1640e66a3277>\u001b[0m in \u001b[0;36m<module>\u001b[0;34m\u001b[0m\n\u001b[1;32m     59\u001b[0m         \u001b[0mid\u001b[0m \u001b[0;34m=\u001b[0m \u001b[0minput\u001b[0m\u001b[0;34m(\u001b[0m\u001b[0;34m'Ingrese el identificador: '\u001b[0m\u001b[0;34m)\u001b[0m\u001b[0;34m\u001b[0m\u001b[0;34m\u001b[0m\u001b[0m\n\u001b[1;32m     60\u001b[0m         \u001b[0mprint\u001b[0m\u001b[0;34m(\u001b[0m\u001b[0mredis1\u001b[0m\u001b[0;34m.\u001b[0m\u001b[0mhgetall\u001b[0m\u001b[0;34m(\u001b[0m\u001b[0;34m'Usuario:'\u001b[0m\u001b[0;34m+\u001b[0m\u001b[0mid\u001b[0m\u001b[0;34m)\u001b[0m\u001b[0;34m,\u001b[0m \u001b[0;34m'\\n'\u001b[0m\u001b[0;34m)\u001b[0m\u001b[0;34m\u001b[0m\u001b[0;34m\u001b[0m\u001b[0m\n\u001b[0;32m---> 61\u001b[0;31m         \u001b[0mprint\u001b[0m\u001b[0;34m(\u001b[0m\u001b[0;34m'Usuario: '\u001b[0m\u001b[0;34m,\u001b[0m \u001b[0mredis1\u001b[0m\u001b[0;34m.\u001b[0m\u001b[0mhget\u001b[0m\u001b[0;34m(\u001b[0m\u001b[0;34m'Usuario:'\u001b[0m\u001b[0;34m+\u001b[0m\u001b[0mid\u001b[0m\u001b[0;34m,\u001b[0m \u001b[0;34m'user'\u001b[0m\u001b[0;34m)\u001b[0m\u001b[0;34m.\u001b[0m\u001b[0mdecode\u001b[0m\u001b[0;34m(\u001b[0m\u001b[0;34m)\u001b[0m\u001b[0;34m)\u001b[0m\u001b[0;34m\u001b[0m\u001b[0;34m\u001b[0m\u001b[0m\n\u001b[0m\u001b[1;32m     62\u001b[0m         \u001b[0mprint\u001b[0m\u001b[0;34m(\u001b[0m\u001b[0;34m'Ciudad: '\u001b[0m\u001b[0;34m,\u001b[0m \u001b[0mredis1\u001b[0m\u001b[0;34m.\u001b[0m\u001b[0mhget\u001b[0m\u001b[0;34m(\u001b[0m\u001b[0;34m'Usuario:'\u001b[0m\u001b[0;34m+\u001b[0m\u001b[0mid\u001b[0m\u001b[0;34m,\u001b[0m \u001b[0;34m'ciudad'\u001b[0m\u001b[0;34m)\u001b[0m\u001b[0;34m.\u001b[0m\u001b[0mdecode\u001b[0m\u001b[0;34m(\u001b[0m\u001b[0;34m)\u001b[0m\u001b[0;34m)\u001b[0m\u001b[0;34m\u001b[0m\u001b[0;34m\u001b[0m\u001b[0m\n\u001b[1;32m     63\u001b[0m \u001b[0;34m\u001b[0m\u001b[0m\n",
      "\u001b[0;31mAttributeError\u001b[0m: 'NoneType' object has no attribute 'decode'"
     ]
    }
   ],
   "source": [
    "# Funciones auxiliares para ingresar datos por consola en Python.\n",
    "os.system('cls')\n",
    "clear = lambda:os.system('cls')\n",
    "\n",
    "# Observación: La aplicación no permite acentos ni comas, por lo que al registrarlas en Redis se deforman.\n",
    "\n",
    "def menu_aplication():\n",
    "    \"\"\"\n",
    "    @Author:Mls21\n",
    "    summary: Menú que imprime la interfaz gráfica para ser un puente entre Python y Redis.\n",
    "    Parameters: NULL\n",
    "    Returns: Pantalla de la intefaz gŕafica\n",
    "    \"\"\"\n",
    "    print(\"\")\n",
    "    print ('+'*20,\" MENU \", '+'*20, '\\n')\n",
    "    print (\"0.- Ingresar un nuevo usuario\")\n",
    "    print (\"1.- Editar datos de un usuario\")\n",
    "    print (\"2.- Buscar usuario\")\n",
    "    print (\"3.- Cerrar sesión de un usuario\")\n",
    "    print (\"4.- Ingresar registros\")\n",
    "    print (\"5.- Comparar registros\")\n",
    "    print (\"6.- Salir\")\n",
    "    print (\"\")\n",
    "\n",
    "        \n",
    "# Empezamos con la interfaz gráfica y todo su desarrollo    \n",
    "while True:\n",
    "    # Inicializamos llamando al menú y eligiendo una opción\n",
    "    menu_aplication()\n",
    "    opMenu = input(\"Ingrese una opción >> \")\n",
    "    clear()\n",
    "    \n",
    "    if opMenu == '0': # Ingresar un nuevo usuario\n",
    "        print()\n",
    "        print('-'*5,\" Ingrese el usuario:\", '-'*5, '\\n')\n",
    "        # Ingresar un id para identificar; Núm. Cuenta para hacerlo práctico\n",
    "        id = input(\"Identificador: \")\n",
    "        # Nombre del usuario\n",
    "        usr = input(\"Usuario: \")\n",
    "        # Ingresamos una ciudad: Nada más para hacer bulto\n",
    "        ciudad = input(\"Ciudad: \")\n",
    "        redis1.hmset('Usuario:'+id, {'user':usr, 'ciudad':ciudad})\n",
    "        \n",
    "    elif opMenu == '1': # Editar datos de usuario\n",
    "        print()\n",
    "        print('-'*5, \"Editar datos de usuarios\", '-'*5, '\\n')\n",
    "        id = input(\"Ingrese el usuario existente: \")\n",
    "        # Ingresamos los comandos para ver si es que el usuario existe\n",
    "        if (redis1.scan(0, 'Usuario:'+id)):\n",
    "            usr = input(\"Nuevo usuario: \")\n",
    "            ciudad = input(\"Nueva ciudad: \")\n",
    "            redis1.hmset('Usuario:'+id, {'user': usr, 'ciudad':ciudad})\n",
    "        else:\n",
    "            print('El usuario no existe.')\n",
    "            \n",
    "    elif opMenu == '2': # Buscar Usuario.\n",
    "        print()\n",
    "        print('-'*10, 'Buscador', '-'*10, '\\n')\n",
    "        id = input('Ingrese el identificador: ')\n",
    "        print(redis1.hgetall('Usuario:'+id), '\\n')\n",
    "        print('Usuario: ', redis1.hget('Usuario:'+id, 'user').decode())\n",
    "        print('Ciudad: ', redis1.hget('Usuario:'+id, 'ciudad').decode())\n",
    "        \n",
    "    elif opMenu == '3': #Cerrar sesión de usuario\n",
    "        print()\n",
    "        print('-'*5, \"Cerrar Sesión de un usuario\", '-'*5, '\\n')\n",
    "        id = input(\"Identificador: \")\n",
    "        if (redis1.scan(0, 'Usuario:'+ id)):\n",
    "            redis1.delete('Usuario:' + id) #borramos todos los urls de este usuario y así sucesivamente.\n",
    "            redis1.delete('URL:'+id)\n",
    "            redis1.delete('Nickname:'+id)\n",
    "            redis1.delete('Categoría:'+id)\n",
    "            redis1.delete('Clasificación:'+id)\n",
    "        else: \n",
    "            print(\"El usuario no existe.\")\n",
    "    \n",
    "    elif opMenu == '4': # Ingresar registros\n",
    "        # Iniciamos a trabajar con los registros los cuales los guardaremos en sets porque son manipulables\n",
    "        op4()\n",
    "        \n",
    "    elif opMenu == '5': # Comparamos los registros para encontrar matches comúnes\n",
    "        print()\n",
    "        usuario1 = input(\"Ingrese el identificador del usuario1: \")\n",
    "        usuario2 = input(\"Ingrese el identificador del usuario2: \")\n",
    "        # Creamos un nuevo conjunto en el cual guardaremos los datos de la intersección\n",
    "        int_dato = 'Intersección' + usuario1 + usuario2\n",
    "        \n",
    "        # Definimos los conjuntos delas intersecciones\n",
    "        url_inter = redis1.sinterstore('URL'+int_dato,'URL:'+usuario1,'URL:'+usuario2)\n",
    "        nick_inter = redis1.sinterstore('Nickname'+int_dato, 'Nickname:'+usuario1, 'Nickname:'+usuario2)\n",
    "        cate_inter = redis1.sinterstore('Categoría'+int_dato, 'Categoría:'+usuario1, 'Categoría:'+usuario2)\n",
    "        clasif_inter = redis1.sinterstore('Clasificación'+int_dato, 'Clasificación:'+usuario1, 'Clasificación:' + usuario2)\n",
    "        \n",
    "        # Mandamos a llamar el nuevo conjunto donde se almacenaron las intersecciones\n",
    "        sURL = redis1.smembers(f'URL{int_dato}')\n",
    "        sNickname = redis1.smembers(f'Nickname{int_dato}')\n",
    "        sClasificacion = redis1.smembers(f'Clasificación{int_dato}')\n",
    "        sCategoria = redis1.smembers(f'Categoría{int_dato}')\n",
    "            \n",
    "        #Imprimimos los registros comunes para todos los registros registrados por cada uno de los usuarios    \n",
    "        print(f'Los URLs comunes son: {sURL} ') \n",
    "        print(f'Los nicknames comunes son: {sNickname}')      \n",
    "        print(f'Las clasificaciones comunes son: {sClasificacion}')\n",
    "        print(f'Las categorías comunes son: {sCategoria}')\n",
    "        \n",
    "    elif opMenu == '6':\n",
    "        #Terminamos la ejecución del programa\n",
    "        break;\n",
    "    \n",
    "    else:\n",
    "        print(\"Opción no válida. Por favor, Vuelva a intentarlo.\")\n",
    "        menu_aplication()\n",
    "        \n",
    "    \n",
    "    input(\"\\n\\n Presione ENTER para continuar.\")\n",
    "    clear()\n",
    "     "
   ]
  },
  {
   "cell_type": "code",
   "execution_count": null,
   "metadata": {},
   "outputs": [],
   "source": [
    "\n"
   ]
  }
 ],
 "metadata": {
  "kernelspec": {
   "display_name": "Python 3",
   "language": "python",
   "name": "python3"
  },
  "language_info": {
   "codemirror_mode": {
    "name": "ipython",
    "version": 3
   },
   "file_extension": ".py",
   "mimetype": "text/x-python",
   "name": "python",
   "nbconvert_exporter": "python",
   "pygments_lexer": "ipython3",
   "version": "3.6.9"
  }
 },
 "nbformat": 4,
 "nbformat_minor": 2
}
